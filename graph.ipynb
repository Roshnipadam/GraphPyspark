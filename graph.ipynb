{
 "cells": [
  {
   "cell_type": "code",
   "execution_count": 1,
   "metadata": {},
   "outputs": [],
   "source": [
    "# social graph is a diagram that illustrates interconnections among people, groups and organizations in a social network.\n",
    "# The term is also used to describe an individual's social network.\n",
    "# When portrayed as a map, a social graph appears as a set of network nodes that are connected by lines."
   ]
  },
  {
   "cell_type": "code",
   "execution_count": 2,
   "metadata": {},
   "outputs": [],
   "source": [
    "# here i take the example of the building a graph frame that is a directed graph\n",
    "# which shows the relationship between the bike trip data and it shows the relationship of trips\n",
    "# starting location to trips ending location"
   ]
  },
  {
   "cell_type": "code",
   "execution_count": 3,
   "metadata": {},
   "outputs": [],
   "source": [
    "# first we load two datasets \n",
    "bikeStations = spark.read.option(\"header\",\"true\")\\\n",
    ".csv(\"/home/roshni/Desktop/data/bikeStation.csv\")\n",
    "tripData = spark.read.option(\"header\",\"true\")\\\n",
    ".csv(\"/home/roshni/Desktop/data/tripData.csv\")"
   ]
  },
  {
   "cell_type": "code",
   "execution_count": 4,
   "metadata": {},
   "outputs": [],
   "source": [
    "# here we follow the set of rules to set src and dest to our edges from dataset\n",
    "# along with the required vertexes of our problem calculations \n",
    "stationVertices = bikeStations.withColumnRenamed(\"name\", \"id\").distinct()\n",
    "tripEdges = tripData\\\n",
    ".withColumnRenamed(\"Start Station\", \"src\")\\\n",
    ".withColumnRenamed(\"End Station\", \"dst\")"
   ]
  },
  {
   "cell_type": "code",
   "execution_count": 6,
   "metadata": {},
   "outputs": [],
   "source": [
    "# creating the graph frame\n",
    "from graphframes import GraphFrame\n",
    "stationGraph = GraphFrame(stationVertices, tripEdges)\n",
    "stationGraph.cache()"
   ]
  },
  {
   "cell_type": "code",
   "execution_count": 7,
   "metadata": {},
   "outputs": [],
   "source": [
    "# some set of predictions from our graph built\n",
    "print \"Total Number of Stations: \" + str(stationGraph.vertices.count())\n",
    "print \"Total Number of Trips in Graph: \" + str(stationGraph.edges.count())"
   ]
  },
  {
   "cell_type": "code",
   "execution_count": 8,
   "metadata": {},
   "outputs": [],
   "source": [
    "# query upon the graph\n",
    "stationGraph.edges.groupBy(\"src\", \"dst\").count().orderBy(desc(\"count\")).show(10)"
   ]
  },
  {
   "cell_type": "code",
   "execution_count": 9,
   "metadata": {},
   "outputs": [],
   "source": [
    "# inDeg finding like how many stations are getting approached\n",
    "inDeg = stationGraph.inDegrees\n",
    "inDeg.orderBy(desc(\"inDegree\"))"
   ]
  },
  {
   "cell_type": "code",
   "execution_count": 10,
   "metadata": {},
   "outputs": [],
   "source": [
    "# hence we can do various query in our graph like inDeg,outDeg ,bfs and also \n",
    "# "
   ]
  },
  {
   "cell_type": "code",
   "execution_count": null,
   "metadata": {},
   "outputs": [],
   "source": []
  }
 ],
 "metadata": {
  "kernelspec": {
   "display_name": "Python 3",
   "language": "python",
   "name": "python3"
  },
  "language_info": {
   "codemirror_mode": {
    "name": "ipython",
    "version": 3
   },
   "file_extension": ".py",
   "mimetype": "text/x-python",
   "name": "python",
   "nbconvert_exporter": "python",
   "pygments_lexer": "ipython3",
   "version": "3.7.3"
  }
 },
 "nbformat": 4,
 "nbformat_minor": 2
}
